{
 "cells": [
  {
   "cell_type": "markdown",
   "metadata": {},
   "source": [
    "Блок 1: Импортиране на библиотеки"
   ]
  },
  {
   "cell_type": "code",
   "execution_count": 18,
   "metadata": {},
   "outputs": [],
   "source": [
    "# Импортираме необходимите библиотеки\n",
    "import json\n",
    "import sqlite3\n",
    "\n",
    "import pandas as pd\n",
    "from IPython.display import clear_output, display\n",
    "from sklearn.feature_extraction.text import TfidfVectorizer\n",
    "from sklearn.metrics import f1_score, precision_score, recall_score\n",
    "from sklearn.metrics.pairwise import cosine_similarity\n"
   ]
  },
  {
   "cell_type": "markdown",
   "metadata": {},
   "source": [
    "Блок 2: Зареждане на данни за книгите"
   ]
  },
  {
   "cell_type": "code",
   "execution_count": 19,
   "metadata": {},
   "outputs": [],
   "source": [
    "# Зареждаме JSON данните и ги преобразуваме в pandas DataFrame\n",
    "def load_books(file_path):\n",
    "    \"\"\"\n",
    "    Зарежда данни за книги от JSON файл и ги преобразува в pandas DataFrame.\n",
    "\n",
    "    Параметри:\n",
    "    - file_path (str): Път към JSON файла със данни за книги.\n",
    "\n",
    "    Връща:\n",
    "    - pandas DataFrame: Съдържа информация за всички книги.\n",
    "\n",
    "    Пример:\n",
    "    >>> books = load_books(\"data.json\")\n",
    "    >>> books.head()\n",
    "    \"\"\"\n",
    "    with open(file_path, \"r\", encoding=\"utf-8\") as file:\n",
    "        data = json.load(file)\n",
    "\n",
    "    books = pd.DataFrame.from_dict(data, orient=\"index\")\n",
    "    books.reset_index(drop=True, inplace=True)\n",
    "\n",
    "    return books"
   ]
  },
  {
   "cell_type": "markdown",
   "metadata": {},
   "source": [
    "Блок 3: Изчисляване на сходства между книгите"
   ]
  },
  {
   "cell_type": "code",
   "execution_count": 20,
   "metadata": {},
   "outputs": [],
   "source": [
    "# Изчисляваме матрица на сходства между книгите\n",
    "def compute_similarity(books):\n",
    "    \"\"\"\n",
    "    Изчислява матрица на сходства между книгите, използвайки TF-IDF векторизация.\n",
    "\n",
    "    Параметри:\n",
    "    - books (pandas DataFrame): DataFrame, съдържащ колона \"Text\" с текстовото съдържание на книгите.\n",
    "\n",
    "    Връща:\n",
    "    - numpy.ndarray: Матрица на сходства (cosine similarity) между книгите.\n",
    "\n",
    "    Пример:\n",
    "    >>> similarity_matrix = compute_similarity(books)\n",
    "    >>> similarity_matrix[0]  # Показва сходствата на първата книга\n",
    "    \"\"\"\n",
    "    vectorizer = TfidfVectorizer()\n",
    "    tfidf_matrix = vectorizer.fit_transform(books[\"Text\"].fillna(\"\"))  # Запълваме NaN стойностите с празен низ\n",
    "    similarity_matrix = cosine_similarity(tfidf_matrix)  # Изчисляваме сходството между книгите\n",
    "    return similarity_matrix"
   ]
  },
  {
   "cell_type": "markdown",
   "metadata": {},
   "source": [
    "Блок 4: Функция за препоръки"
   ]
  },
  {
   "cell_type": "code",
   "execution_count": 21,
   "metadata": {},
   "outputs": [],
   "source": [
    "# Функция, която предлага препоръчани книги, базирани на търсено заглавие\n",
    "def get_recommendations(title, books, similarity_matrix, top_n=5):\n",
    "    \"\"\"\n",
    "    Препоръчва книги, подобни на даденото заглавие, като изключва самата търсена книга.\n",
    "\n",
    "    Параметри:\n",
    "    - title (str): Заглавие на търсената книга.\n",
    "    - books (pandas DataFrame): DataFrame със списък на книгите.\n",
    "    - similarity_matrix (numpy.ndarray): Матрица на сходства между книгите.\n",
    "    - top_n (int): Брой препоръчани книги (по подразбиране 5).\n",
    "\n",
    "    Връща:\n",
    "    - pandas DataFrame: DataFrame с препоръчани книги и автори, изключвайки търсената книга.\n",
    "    \"\"\"\n",
    "    # Намираме индекса на търсената книга\n",
    "    book_index = books[books[\"Title\"].str.lower() == title.lower()].index\n",
    "    if book_index.empty:\n",
    "        return pd.DataFrame(columns=[\"Id\", \"Title\", \"Author\", \"Form\"])\n",
    "\n",
    "    book_index = book_index[0]\n",
    "    scores = list(enumerate(similarity_matrix[int(book_index)]))\n",
    "\n",
    "    # Изключваме търсената книга от препоръките\n",
    "    scores = [score for score in scores if score[0] != book_index]\n",
    "\n",
    "    # Сортираме по сходство и избираме топ N\n",
    "    scores = sorted(scores, key=lambda x: x[1], reverse=True)[:top_n]\n",
    "\n",
    "    # Извличаме Id, заглавията и авторите на препоръчаните книги\n",
    "    recommendations = pd.DataFrame([\n",
    "        {\n",
    "            \"Id\": books.iloc[i[0]][\"Id\"],\n",
    "            \"Title\": books.iloc[i[0]][\"Title\"],\n",
    "            \"Author\": books.iloc[i[0]][\"Author\"],\n",
    "            \"Form\": books.iloc[i[0]][\"Form\"]            \n",
    "        }\n",
    "        for i in scores\n",
    "    ])\n",
    "\n",
    "    # Задаваме Id като индекс на DataFrame-а\n",
    "    recommendations.set_index(\"Id\", inplace=True)\n",
    "\n",
    "    return recommendations"
   ]
  },
  {
   "cell_type": "markdown",
   "metadata": {},
   "source": [
    "Блок 5: Оценка на препоръките"
   ]
  },
  {
   "cell_type": "code",
   "execution_count": 22,
   "metadata": {},
   "outputs": [],
   "source": [
    "# Функция за изчисляване на precision, recall и F1-score\n",
    "def evaluate_recommendations(books, similarity_matrix):\n",
    "    \"\"\"\n",
    "    Оценява препоръките чрез изчисляване на precision, recall и F1-score.\n",
    "\n",
    "    Параметри:\n",
    "    - books (pandas DataFrame): DataFrame със списък на книгите.\n",
    "    - similarity_matrix (numpy.ndarray): Матрица на сходства между книгите.\n",
    "\n",
    "    Връща:\n",
    "    - tuple: Съдържа precision, recall и F1-score.\n",
    "    \"\"\"\n",
    "    y_true, y_pred = [], []\n",
    "    for i in range(len(books)):\n",
    "        relevant_genres = set(books.iloc[i][\"Genres\"].split())\n",
    "        recommendations = get_recommendations(books.iloc[i][\"Title\"], books, similarity_matrix)\n",
    "        \n",
    "        for rec in recommendations[\"Title\"]:\n",
    "            rec_genres = set(books[books[\"Title\"] == rec][\"Genres\"].values[0].split())\n",
    "            y_true.append(1 if relevant_genres & rec_genres else 0)  # Ако има съвпадение в жанровете, е релевантно\n",
    "            y_pred.append(1)  # Предполага се, че препоръката е релевантна (поне за един жанр)\n",
    "\n",
    "    # Изчисляване на метриките\n",
    "    precision = precision_score(y_true, y_pred, zero_division=1)\n",
    "    recall = recall_score(y_true, y_pred, zero_division=1)\n",
    "    f1 = f1_score(y_true, y_pred, zero_division=1)\n",
    "\n",
    "    return precision, recall, f1"
   ]
  },
  {
   "cell_type": "markdown",
   "metadata": {},
   "source": [
    "Блок 6: Записване на резултатите в SQLite"
   ]
  },
  {
   "cell_type": "code",
   "execution_count": 23,
   "metadata": {},
   "outputs": [],
   "source": [
    "# Функция за записване на резултатите в база данни\n",
    "def save_results_to_sqlite(search_title, recommendations, books, db_path=\"../database/books_recommendations.db\"):\n",
    "    \"\"\"\n",
    "    Записва резултатите от препоръките и информацията за книгите в SQLite база данни.\n",
    "\n",
    "    Параметри:\n",
    "    - search_title (str): Търсена книга.\n",
    "    - recommendations (list): Списък с препоръки (заглавия на книги).\n",
    "    - books (pandas DataFrame): DataFrame със списък на книгите.\n",
    "    - db_path (str): Път към SQLite базата данни.\n",
    "    \"\"\"\n",
    "    SAVE_ALL_BOOKS = False  # Ако е True, записва всички книги в SQLite\n",
    "\n",
    "    try:\n",
    "        # Използване на контекстен мениджър за връзка с базата данни\n",
    "        with sqlite3.connect(db_path) as conn:\n",
    "            cursor = conn.cursor()\n",
    "\n",
    "            # Създаване на таблица за препоръки (ако не съществува)\n",
    "            cursor.execute(\"\"\" \n",
    "                CREATE TABLE IF NOT EXISTS recommendations (\n",
    "                    id INTEGER PRIMARY KEY AUTOINCREMENT,\n",
    "                    searched_title TEXT,\n",
    "                    recommended_titles TEXT,\n",
    "                    search_time TIMESTAMP DEFAULT CURRENT_TIMESTAMP\n",
    "                )\n",
    "            \"\"\")\n",
    "\n",
    "            # Вмъкване на данни за препоръките\n",
    "            cursor.execute(\"\"\" \n",
    "                INSERT INTO recommendations (searched_title, recommended_titles)\n",
    "                VALUES (?, ?)\n",
    "            \"\"\", (search_title, \", \".join(recommendations)))\n",
    "\n",
    "            # Записване на всички книги, ако SAVE_ALL_BOOKS е True\n",
    "            if SAVE_ALL_BOOKS:\n",
    "                cursor.execute(\"\"\" \n",
    "                    CREATE TABLE IF NOT EXISTS books (\n",
    "                        id INTEGER PRIMARY KEY AUTOINCREMENT,\n",
    "                        title TEXT,\n",
    "                        author TEXT,\n",
    "                        genres TEXT\n",
    "                    )\n",
    "                \"\"\")\n",
    "                # Използване на executemany за оптимизация\n",
    "                books_data = [(book[\"Title\"], book[\"Author\"], book[\"Genres\"]) for _, book in books.iterrows()]\n",
    "                cursor.executemany(\"\"\" \n",
    "                    INSERT OR IGNORE INTO books (title, author, genres)\n",
    "                    VALUES (?, ?, ?)\n",
    "                \"\"\", books_data)\n",
    "\n",
    "            conn.commit()  # Потвърждаваме промените\n",
    "        print(\"\\nРезултатите са записани в базата данни.\")\n",
    "\n",
    "    except sqlite3.Error as e:\n",
    "        print(f\"\\nГрешка при запис в базата данни: {e}\")"
   ]
  },
  {
   "cell_type": "markdown",
   "metadata": {},
   "source": [
    "Блок 7: Основна функция и изпълнение"
   ]
  },
  {
   "cell_type": "code",
   "execution_count": 26,
   "metadata": {},
   "outputs": [
    {
     "name": "stdout",
     "output_type": "stream",
     "text": [
      "Търсене на препоръки...\n",
      "Препоръчани книги:\n"
     ]
    },
    {
     "data": {
      "text/html": [
       "<div>\n",
       "<style scoped>\n",
       "    .dataframe tbody tr th:only-of-type {\n",
       "        vertical-align: middle;\n",
       "    }\n",
       "\n",
       "    .dataframe tbody tr th {\n",
       "        vertical-align: top;\n",
       "    }\n",
       "\n",
       "    .dataframe thead th {\n",
       "        text-align: right;\n",
       "    }\n",
       "</style>\n",
       "<table border=\"1\" class=\"dataframe\">\n",
       "  <thead>\n",
       "    <tr style=\"text-align: right;\">\n",
       "      <th></th>\n",
       "      <th>Title</th>\n",
       "      <th>Author</th>\n",
       "      <th>Form</th>\n",
       "    </tr>\n",
       "    <tr>\n",
       "      <th>Id</th>\n",
       "      <th></th>\n",
       "      <th></th>\n",
       "      <th></th>\n",
       "    </tr>\n",
       "  </thead>\n",
       "  <tbody>\n",
       "    <tr>\n",
       "      <th>2</th>\n",
       "      <td>Последната битка</td>\n",
       "      <td>Дейвид Едингс</td>\n",
       "      <td>Роман</td>\n",
       "    </tr>\n",
       "    <tr>\n",
       "      <th>21</th>\n",
       "      <td>Пазителите на запада</td>\n",
       "      <td>Дейвид Едингс</td>\n",
       "      <td>Роман</td>\n",
       "    </tr>\n",
       "    <tr>\n",
       "      <th>107</th>\n",
       "      <td>Пророчеството</td>\n",
       "      <td>Дейвид Едингс</td>\n",
       "      <td>Роман</td>\n",
       "    </tr>\n",
       "    <tr>\n",
       "      <th>151</th>\n",
       "      <td>Кралят на мургите</td>\n",
       "      <td>Дейвид Едингс</td>\n",
       "      <td>Роман</td>\n",
       "    </tr>\n",
       "    <tr>\n",
       "      <th>248</th>\n",
       "      <td>Господарят демон на Каранда</td>\n",
       "      <td>Дейвид Едингс</td>\n",
       "      <td>Роман</td>\n",
       "    </tr>\n",
       "  </tbody>\n",
       "</table>\n",
       "</div>"
      ],
      "text/plain": [
       "                           Title         Author   Form\n",
       "Id                                                    \n",
       "2               Последната битка  Дейвид Едингс  Роман\n",
       "21          Пазителите на запада  Дейвид Едингс  Роман\n",
       "107                Пророчеството  Дейвид Едингс  Роман\n",
       "151            Кралят на мургите  Дейвид Едингс  Роман\n",
       "248  Господарят демон на Каранда  Дейвид Едингс  Роман"
      ]
     },
     "metadata": {},
     "output_type": "display_data"
    },
    {
     "name": "stdout",
     "output_type": "stream",
     "text": [
      "Precision: 0.98, Recall: 1.00, F1-Score: 0.99\n",
      "\n",
      "Резултатите са записани в базата данни.\n"
     ]
    }
   ],
   "source": [
    "# Основната функция, която зарежда книги, изчислява сходства и предоставя препоръки на потребителя.\n",
    "def main():\n",
    "    \"\"\"\n",
    "    Основната функция, която зарежда книги, изчислява сходства и предоставя препоръки на потребителя.\n",
    "    \"\"\"\n",
    "    # Изчистваме предишните изходи на клетките\n",
    "    clear_output(wait=True)\n",
    "\n",
    "    file_path = \"../archive/data.json\"  # Път до вашия JSON файл\n",
    "    books = load_books(file_path)\n",
    "    similarity_matrix = compute_similarity(books)\n",
    "\n",
    "    user_input = input(\"Въведете заглавие на прочетена книга: \")\n",
    "    print(\"Търсене на препоръки...\")\n",
    "    recommendations = get_recommendations(user_input, books, similarity_matrix)\n",
    "\n",
    "    if not recommendations.empty:\n",
    "        print(\"Препоръчани книги:\")\n",
    "\n",
    "        display(recommendations)  # Записване на препоръчаните книги в табличен вид\n",
    "    else:\n",
    "        print(\"Няма намерени препоръки.\")\n",
    "\n",
    "    precision, recall, f1 = evaluate_recommendations(books, similarity_matrix)\n",
    "    print(f\"Precision: {precision:.2f}, Recall: {recall:.2f}, F1-Score: {f1:.2f}\")\n",
    "\n",
    "    save_results_to_sqlite(user_input, recommendations[\"Title\"].tolist(), books)\n",
    "\n",
    "main()"
   ]
  },
  {
   "cell_type": "markdown",
   "metadata": {},
   "source": [
    "## Заключение\n",
    "Това е основната структура на препоръчителната система за книги, използваща TF-IDF и cosine similarity. \n",
    "\n",
    "Изпълнението на този **Jupyter Notebook** ще ви позволи лесно да разберете как работят основните стъпки за изчисляване на сходствата и предлагането на книги. Не забравяйте да добавите правилния път към вашия JSON файл с данни и да инсталирате необходимите библиотеки с командите:\n",
    "\n",
    "```bash\n",
    "pip install pandas scikit-learn sqlite3"
   ]
  }
 ],
 "metadata": {
  "kernelspec": {
   "display_name": "venv",
   "language": "python",
   "name": "python3"
  },
  "language_info": {
   "codemirror_mode": {
    "name": "ipython",
    "version": 3
   },
   "file_extension": ".py",
   "mimetype": "text/x-python",
   "name": "python",
   "nbconvert_exporter": "python",
   "pygments_lexer": "ipython3",
   "version": "3.11.9"
  }
 },
 "nbformat": 4,
 "nbformat_minor": 2
}
